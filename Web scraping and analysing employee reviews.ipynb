{
 "cells": [
  {
   "cell_type": "markdown",
   "metadata": {},
   "source": [
    "With the help of the Latent Dirichlet Allocation model from the genism module, I extracted several words or topics that were used by the employers about working in their organization, in this case, Amazon."
   ]
  },
  {
   "cell_type": "markdown",
   "metadata": {},
   "source": [
    "# Part 1: Scraping the webpage and extracting the reviews from the employees of Amazon"
   ]
  },
  {
   "cell_type": "code",
   "execution_count": 42,
   "metadata": {},
   "outputs": [],
   "source": [
    "#importing all the necessary libraries \n",
    "\n",
    "import requests\n",
    "import json\n",
    "import gensim\n",
    "import re\n",
    "import string\n",
    "from pprint import pprint\n",
    "from nltk.corpus import stopwords\n",
    "from nltk.tokenize import word_tokenize\n",
    "from nltk.stem import WordNetLemmatizer\n",
    "from textblob import TextBlob\n",
    "from gensim import corpora, models"
   ]
  },
  {
   "cell_type": "markdown",
   "metadata": {},
   "source": [
    "Suppose we only want to extract the reviews of the employees for the month of January. We hard-code for this process and extract the data from the web page. "
   ]
  },
  {
   "cell_type": "code",
   "execution_count": 28,
   "metadata": {},
   "outputs": [],
   "source": [
    "#Function that takes url as the input, & only outputs list of lists containing Pros['LikesText'], Cons['DisLikesText'], Date['Modified']\n",
    "\n",
    "def MyFunc1(url):\n",
    "    response = requests.get(url)\n",
    "    json = response.json()\n",
    "    dic = dict(json)\n",
    "    data = dic[\"data\"][\"reviews\"]\n",
    "\n",
    "    MyData = []\n",
    "    for i in data:\n",
    "        dt = i[\"Modified\"]\n",
    "        year = int(dt[0:4])\n",
    "        month = int(dt[5:7])\n",
    "        if year < 2022:\n",
    "            return 0\n",
    "        if month == 1:  \n",
    "            MyData.append([i['LikesText'], i[\"DisLikesText\"], i[\"Modified\"]])\n",
    "    return MyData"
   ]
  },
  {
   "cell_type": "code",
   "execution_count": 29,
   "metadata": {},
   "outputs": [],
   "source": [
    "#Function call \n",
    "\n",
    "final_data = []\n",
    "num_pages = 120 \n",
    "for i in range(num_pages):\n",
    "    url = \"https://www.ambitionbox.com/api/v2/reviews/data/114?page=\"+str(i+1)+\"&sort=recent\"\n",
    "    L = MyFunc1(url)\n",
    "    if L == 0:\n",
    "        break\n",
    "    for j in L:\n",
    "        final_data.append(j)"
   ]
  },
  {
   "cell_type": "code",
   "execution_count": 30,
   "metadata": {},
   "outputs": [
    {
     "data": {
      "text/plain": [
       "451"
      ]
     },
     "execution_count": 30,
     "metadata": {},
     "output_type": "execute_result"
    }
   ],
   "source": [
    "len(final_data)"
   ]
  },
  {
   "cell_type": "markdown",
   "metadata": {},
   "source": [
    "# Part 2: Creating a CSV file and analysing the reviews. "
   ]
  },
  {
   "cell_type": "code",
   "execution_count": 31,
   "metadata": {},
   "outputs": [
    {
     "data": {
      "text/html": [
       "<div>\n",
       "<style scoped>\n",
       "    .dataframe tbody tr th:only-of-type {\n",
       "        vertical-align: middle;\n",
       "    }\n",
       "\n",
       "    .dataframe tbody tr th {\n",
       "        vertical-align: top;\n",
       "    }\n",
       "\n",
       "    .dataframe thead th {\n",
       "        text-align: right;\n",
       "    }\n",
       "</style>\n",
       "<table border=\"1\" class=\"dataframe\">\n",
       "  <thead>\n",
       "    <tr style=\"text-align: right;\">\n",
       "      <th></th>\n",
       "      <th>Pros</th>\n",
       "      <th>Cons</th>\n",
       "      <th>Date</th>\n",
       "    </tr>\n",
       "  </thead>\n",
       "  <tbody>\n",
       "    <tr>\n",
       "      <th>0</th>\n",
       "      <td>Everything work culture, seniors they are very...</td>\n",
       "      <td>Nothing this company is the best.i loved worki...</td>\n",
       "      <td>2022-01-31 23:39:41</td>\n",
       "    </tr>\n",
       "    <tr>\n",
       "      <th>1</th>\n",
       "      <td>Work Life balance and career growth</td>\n",
       "      <td>Nothing</td>\n",
       "      <td>2022-01-31 23:20:21</td>\n",
       "    </tr>\n",
       "    <tr>\n",
       "      <th>2</th>\n",
       "      <td>Good company for skill development</td>\n",
       "      <td>Nothing\\r\\n</td>\n",
       "      <td>2022-01-31 23:11:58</td>\n",
       "    </tr>\n",
       "    <tr>\n",
       "      <th>3</th>\n",
       "      <td>Great company, terrible process</td>\n",
       "      <td>They only accept what their reports generated ...</td>\n",
       "      <td>2022-01-31 21:41:40</td>\n",
       "    </tr>\n",
       "    <tr>\n",
       "      <th>4</th>\n",
       "      <td>Work life balance and work culture is somethin...</td>\n",
       "      <td>Salary is decent but career growth is comparat...</td>\n",
       "      <td>2022-01-31 19:50:00</td>\n",
       "    </tr>\n",
       "  </tbody>\n",
       "</table>\n",
       "</div>"
      ],
      "text/plain": [
       "                                                Pros  \\\n",
       "0  Everything work culture, seniors they are very...   \n",
       "1               Work Life balance and career growth    \n",
       "2                 Good company for skill development   \n",
       "3                    Great company, terrible process   \n",
       "4  Work life balance and work culture is somethin...   \n",
       "\n",
       "                                                Cons                 Date  \n",
       "0  Nothing this company is the best.i loved worki...  2022-01-31 23:39:41  \n",
       "1                                           Nothing   2022-01-31 23:20:21  \n",
       "2                                        Nothing\\r\\n  2022-01-31 23:11:58  \n",
       "3  They only accept what their reports generated ...  2022-01-31 21:41:40  \n",
       "4  Salary is decent but career growth is comparat...  2022-01-31 19:50:00  "
      ]
     },
     "execution_count": 31,
     "metadata": {},
     "output_type": "execute_result"
    }
   ],
   "source": [
    "#Converting our list to a csv file to complete Task 2 and extract main topics. \n",
    "\n",
    "import pandas as pd\n",
    "headerList = ['Pros', 'Cons', 'Date']\n",
    "\n",
    "raw_data = pd.DataFrame(final_data)\n",
    "raw_data.to_csv('reviews.csv', index=False, header=headerList)\n",
    "raw_data = pd.read_csv('reviews.csv')\n",
    "raw_data.head()"
   ]
  },
  {
   "cell_type": "code",
   "execution_count": 32,
   "metadata": {},
   "outputs": [],
   "source": [
    "data = raw_data.Pros.values.tolist()"
   ]
  },
  {
   "cell_type": "code",
   "execution_count": 33,
   "metadata": {},
   "outputs": [],
   "source": [
    "\n",
    "\n",
    "stopWords = set(stopwords.words('english'))\n",
    "\n",
    "lemmatizer = WordNetLemmatizer()\n",
    "\n",
    "def clean_txt(txt):\n",
    "    corpus = []    \n",
    "    for t in txt:\n",
    "        review = []\n",
    "\n",
    "#First it is converted to lower, then anything other than alphabets are removed followed by removal of  whitespaces.\n",
    "        \n",
    "        review = str(t).lower()\n",
    "        review = re.sub('[^a-zA-Z]', ' ',str(review))  \n",
    "        review = re.sub(\"^\\s*|\\s*$\", \"\", review) #whitespaces and newline chars are removed\n",
    "        \n",
    "        #Now tokenize the sentences, remove stopwords, punctuation if any, and lemmatize the words \n",
    "        \n",
    "        w_txt = word_tokenize(review)\n",
    "        stopWords.update([\"iam\", \"nan\", \"na\", \"nothing\", \"b\",\"c\",\"e\",\"f\",\"g\",\"h\",\"j\",\"k\",\"l\",\"n\",\"p\",\"q\",\"r\",\"u\",\"v\",\"w\",\"x\",\"z\"])\n",
    "        StopWords = [ww for ww in w_txt if ww.lower() not in stopWords and ww not in string.punctuation]\n",
    "        review = [lemmatizer.lemmatize(word, pos = 'n') for word in StopWords]  \n",
    "        corpus.append(review)\n",
    "    \n",
    "    return corpus \n",
    "\n",
    "clean = list(clean_txt(data))"
   ]
  },
  {
   "cell_type": "code",
   "execution_count": 48,
   "metadata": {},
   "outputs": [],
   "source": [
    "corp = corpora.Dictionary(clean)\n",
    "\n",
    "#A bag of words model necessary for our LDA model later on\n",
    "\n",
    "corpus = [corp.doc2bow(ww) for ww in clean]"
   ]
  },
  {
   "cell_type": "code",
   "execution_count": 55,
   "metadata": {},
   "outputs": [],
   "source": [
    "lda_model =  models.LdaModel(corpus, num_topics=3, id2word=corp, passes=4)"
   ]
  },
  {
   "cell_type": "code",
   "execution_count": 56,
   "metadata": {},
   "outputs": [
    {
     "name": "stdout",
     "output_type": "stream",
     "text": [
      "[(0,\n",
      "  '0.071*\"good\" + 0.068*\"work\" + 0.046*\"culture\" + 0.035*\"amazon\" + '\n",
      "  '0.032*\"company\" + 0.018*\"great\" + 0.015*\"management\" + 0.014*\"environment\" '\n",
      "  '+ 0.013*\"like\" + 0.012*\"best\"'),\n",
      " (1,\n",
      "  '0.060*\"work\" + 0.028*\"amazon\" + 0.026*\"culture\" + 0.022*\"job\" + '\n",
      "  '0.020*\"company\" + 0.018*\"security\" + 0.017*\"policy\" + 0.015*\"employee\" + '\n",
      "  '0.014*\"best\" + 0.013*\"benefit\"'),\n",
      " (2,\n",
      "  '0.020*\"job\" + 0.019*\"work\" + 0.019*\"nice\" + 0.017*\"experience\" + '\n",
      "  '0.015*\"working\" + 0.014*\"amazon\" + 0.010*\"place\" + 0.010*\"customer\" + '\n",
      "  '0.009*\"time\" + 0.009*\"help\"')]\n"
     ]
    }
   ],
   "source": [
    "pprint(lda_model.print_topics())"
   ]
  },
  {
   "cell_type": "markdown",
   "metadata": {},
   "source": [
    "Words such as culture, environment, management, security, benefit, help imply all the pros employees think they have while working the Amazon. At the same time, there are some words which do not give a clear meaning, but you can somewhat read along the lines [words like good, nice, work, best]. Their meaning is closer to the workplace being good, nice, best or the environment. \n",
    "\n",
    "To get around this issue, we can use bigrams or trigrams to have a better understanding of these words with some context."
   ]
  },
  {
   "cell_type": "markdown",
   "metadata": {},
   "source": [
    "# Now same, but for Cons"
   ]
  },
  {
   "cell_type": "code",
   "execution_count": 37,
   "metadata": {},
   "outputs": [],
   "source": [
    "cons = raw_data.Cons.values.tolist()"
   ]
  },
  {
   "cell_type": "code",
   "execution_count": 38,
   "metadata": {},
   "outputs": [],
   "source": [
    "clean_cons = list(clean_txt(cons))"
   ]
  },
  {
   "cell_type": "code",
   "execution_count": 51,
   "metadata": {},
   "outputs": [],
   "source": [
    "corp_cons = corpora.Dictionary(clean_cons)\n",
    "\n",
    "#A bag of words model necessary for our LDA model later on\n",
    "\n",
    "corpus_cons = [corp_cons.doc2bow(ww) for ww in clean_cons]"
   ]
  },
  {
   "cell_type": "code",
   "execution_count": 60,
   "metadata": {},
   "outputs": [],
   "source": [
    "lda_model_cons =  models.LdaModel(corpus_cons, num_topics=3,id2word=corp_cons, passes=4)"
   ]
  },
  {
   "cell_type": "code",
   "execution_count": 61,
   "metadata": {},
   "outputs": [
    {
     "name": "stdout",
     "output_type": "stream",
     "text": [
      "[(0,\n",
      "  '0.028*\"job\" + 0.018*\"company\" + 0.018*\"management\" + 0.016*\"work\" + '\n",
      "  '0.011*\"politics\" + 0.011*\"employee\" + 0.011*\"even\" + 0.010*\"best\" + '\n",
      "  '0.010*\"contract\" + 0.009*\"permanent\"'),\n",
      " (1,\n",
      "  '0.034*\"good\" + 0.022*\"dislike\" + 0.022*\"amazon\" + 0.019*\"work\" + '\n",
      "  '0.017*\"everything\" + 0.014*\"company\" + 0.011*\"thing\" + 0.011*\"manager\" + '\n",
      "  '0.011*\"pressure\" + 0.009*\"shift\"'),\n",
      " (2,\n",
      "  '0.043*\"growth\" + 0.032*\"work\" + 0.023*\"slow\" + 0.020*\"career\" + '\n",
      "  '0.019*\"salary\" + 0.015*\"working\" + 0.014*\"life\" + 0.013*\"time\" + '\n",
      "  '0.013*\"opportunity\" + 0.013*\"balance\"')]\n"
     ]
    }
   ],
   "source": [
    "pprint(lda_model_cons.print_topics())"
   ]
  },
  {
   "cell_type": "markdown",
   "metadata": {},
   "source": [
    "There are words which give you a clear idea about some of the cons about the workplace. Words such as politics which imply office politics, shift which might imply the work shift, or salary which the employees might not think is enough.\n",
    "\n",
    "Also, here, like in Pros, words such as life, balance probably imply work life balance, or the slow might indicate the pace of one’s workflow. Similarly, we can get around the issue using n-grams, I believe\n"
   ]
  },
  {
   "cell_type": "code",
   "execution_count": null,
   "metadata": {},
   "outputs": [],
   "source": []
  }
 ],
 "metadata": {
  "kernelspec": {
   "display_name": "Python 3",
   "language": "python",
   "name": "python3"
  },
  "language_info": {
   "codemirror_mode": {
    "name": "ipython",
    "version": 3
   },
   "file_extension": ".py",
   "mimetype": "text/x-python",
   "name": "python",
   "nbconvert_exporter": "python",
   "pygments_lexer": "ipython3",
   "version": "3.8.5"
  }
 },
 "nbformat": 4,
 "nbformat_minor": 4
}
